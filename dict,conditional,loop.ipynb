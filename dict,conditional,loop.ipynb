{
 "cells": [
  {
   "cell_type": "markdown",
   "id": "a39b7c03",
   "metadata": {},
   "source": [
    "## Dictionary"
   ]
  },
  {
   "cell_type": "code",
   "execution_count": 1,
   "id": "6fdad16b",
   "metadata": {},
   "outputs": [],
   "source": [
    "d = {}"
   ]
  },
  {
   "cell_type": "code",
   "execution_count": 2,
   "id": "9024ee2d",
   "metadata": {},
   "outputs": [
    {
     "data": {
      "text/plain": [
       "dict"
      ]
     },
     "execution_count": 2,
     "metadata": {},
     "output_type": "execute_result"
    }
   ],
   "source": [
    "type(d)"
   ]
  },
  {
   "cell_type": "code",
   "execution_count": 3,
   "id": "37b479d8",
   "metadata": {},
   "outputs": [],
   "source": [
    "d1 = {'key':'values'}"
   ]
  },
  {
   "cell_type": "code",
   "execution_count": 4,
   "id": "aebba3f6",
   "metadata": {},
   "outputs": [
    {
     "data": {
      "text/plain": [
       "{'key': 'values'}"
      ]
     },
     "execution_count": 4,
     "metadata": {},
     "output_type": "execute_result"
    }
   ],
   "source": [
    "d1"
   ]
  },
  {
   "cell_type": "code",
   "execution_count": 5,
   "id": "74fc2cd9",
   "metadata": {},
   "outputs": [],
   "source": [
    "d2 = {'name':'sonu','email':'allinone','roll_no':65}"
   ]
  },
  {
   "cell_type": "code",
   "execution_count": 6,
   "id": "ab2812d7",
   "metadata": {},
   "outputs": [
    {
     "data": {
      "text/plain": [
       "{'name': 'sonu', 'email': 'allinone', 'roll_no': 65}"
      ]
     },
     "execution_count": 6,
     "metadata": {},
     "output_type": "execute_result"
    }
   ],
   "source": [
    "d2"
   ]
  },
  {
   "cell_type": "code",
   "execution_count": 7,
   "id": "3b824253",
   "metadata": {},
   "outputs": [
    {
     "data": {
      "text/plain": [
       "dict_items([('name', 'sonu'), ('email', 'allinone'), ('roll_no', 65)])"
      ]
     },
     "execution_count": 7,
     "metadata": {},
     "output_type": "execute_result"
    }
   ],
   "source": [
    "d2.items()"
   ]
  },
  {
   "cell_type": "code",
   "execution_count": 8,
   "id": "bd48d7e6",
   "metadata": {},
   "outputs": [
    {
     "data": {
      "text/plain": [
       "dict_keys(['name', 'email', 'roll_no'])"
      ]
     },
     "execution_count": 8,
     "metadata": {},
     "output_type": "execute_result"
    }
   ],
   "source": [
    "d2.keys()"
   ]
  },
  {
   "cell_type": "code",
   "execution_count": 9,
   "id": "951505a3",
   "metadata": {},
   "outputs": [
    {
     "data": {
      "text/plain": [
       "dict_values(['sonu', 'allinone', 65])"
      ]
     },
     "execution_count": 9,
     "metadata": {},
     "output_type": "execute_result"
    }
   ],
   "source": [
    " d2.values()"
   ]
  },
  {
   "cell_type": "code",
   "execution_count": 10,
   "id": "a1d7f6fd",
   "metadata": {},
   "outputs": [],
   "source": [
    "d3 = {123:'monu'}"
   ]
  },
  {
   "cell_type": "code",
   "execution_count": 11,
   "id": "d3157591",
   "metadata": {},
   "outputs": [
    {
     "data": {
      "text/plain": [
       "{123: 'monu'}"
      ]
     },
     "execution_count": 11,
     "metadata": {},
     "output_type": "execute_result"
    }
   ],
   "source": [
    "d3"
   ]
  },
  {
   "cell_type": "code",
   "execution_count": 12,
   "id": "88b1a2a9",
   "metadata": {},
   "outputs": [
    {
     "ename": "SyntaxError",
     "evalue": "invalid syntax (Temp/ipykernel_28944/1027171144.py, line 2)",
     "output_type": "error",
     "traceback": [
      "\u001b[1;36m  File \u001b[1;32m\"C:\\Users\\Dell\\AppData\\Local\\Temp/ipykernel_28944/1027171144.py\"\u001b[1;36m, line \u001b[1;32m2\u001b[0m\n\u001b[1;33m    d4 = {@ : 'asd',_de : 78}\u001b[0m\n\u001b[1;37m          ^\u001b[0m\n\u001b[1;31mSyntaxError\u001b[0m\u001b[1;31m:\u001b[0m invalid syntax\n"
     ]
    }
   ],
   "source": [
    "# we can't take spacial character as a key ,if we want to take spacial character as key , we put it in single or double quotes\n",
    "d4 = {@ : 'asd',_de : 78}"
   ]
  },
  {
   "cell_type": "code",
   "execution_count": 13,
   "id": "7e4f6a03",
   "metadata": {},
   "outputs": [],
   "source": [
    "d4 ={True : '124',False : 34}"
   ]
  },
  {
   "cell_type": "code",
   "execution_count": 14,
   "id": "65f8de4f",
   "metadata": {},
   "outputs": [
    {
     "data": {
      "text/plain": [
       "{True: '124', False: 34}"
      ]
     },
     "execution_count": 14,
     "metadata": {},
     "output_type": "execute_result"
    }
   ],
   "source": [
    "d4"
   ]
  },
  {
   "cell_type": "code",
   "execution_count": 15,
   "id": "a14175f5",
   "metadata": {},
   "outputs": [
    {
     "data": {
      "text/plain": [
       "{'name': 'sonu', 'email': 'allinone', 'roll_no': 65}"
      ]
     },
     "execution_count": 15,
     "metadata": {},
     "output_type": "execute_result"
    }
   ],
   "source": [
    "d2"
   ]
  },
  {
   "cell_type": "code",
   "execution_count": 16,
   "id": "fe0826e0",
   "metadata": {},
   "outputs": [
    {
     "data": {
      "text/plain": [
       "'sonu'"
      ]
     },
     "execution_count": 16,
     "metadata": {},
     "output_type": "execute_result"
    }
   ],
   "source": [
    "d2['name']"
   ]
  },
  {
   "cell_type": "code",
   "execution_count": 17,
   "id": "fec950c9",
   "metadata": {},
   "outputs": [],
   "source": [
    "d2['name'] = 'monu'"
   ]
  },
  {
   "cell_type": "code",
   "execution_count": 18,
   "id": "6c2fbe84",
   "metadata": {},
   "outputs": [
    {
     "data": {
      "text/plain": [
       "{'name': 'monu', 'email': 'allinone', 'roll_no': 65}"
      ]
     },
     "execution_count": 18,
     "metadata": {},
     "output_type": "execute_result"
    }
   ],
   "source": [
    "d2"
   ]
  },
  {
   "cell_type": "code",
   "execution_count": 19,
   "id": "b9045512",
   "metadata": {},
   "outputs": [],
   "source": [
    "dict = {'name':'sonu','r_no':65}"
   ]
  },
  {
   "cell_type": "code",
   "execution_count": 20,
   "id": "014ee1a6",
   "metadata": {},
   "outputs": [
    {
     "data": {
      "text/plain": [
       "{'name': 'sonu', 'r_no': 65}"
      ]
     },
     "execution_count": 20,
     "metadata": {},
     "output_type": "execute_result"
    }
   ],
   "source": [
    "dict"
   ]
  },
  {
   "cell_type": "code",
   "execution_count": 21,
   "id": "497931f6",
   "metadata": {},
   "outputs": [],
   "source": [
    "# if key is not unique ,it give the updated value of key\n",
    "dict = {'name':'sonu','r_no':65,'name':'monu'}"
   ]
  },
  {
   "cell_type": "code",
   "execution_count": 22,
   "id": "94c2149a",
   "metadata": {},
   "outputs": [
    {
     "data": {
      "text/plain": [
       "{'name': 'monu', 'r_no': 65}"
      ]
     },
     "execution_count": 22,
     "metadata": {},
     "output_type": "execute_result"
    }
   ],
   "source": [
    "dict"
   ]
  },
  {
   "cell_type": "code",
   "execution_count": 23,
   "id": "86c97e66",
   "metadata": {},
   "outputs": [],
   "source": [
    "d5 = {'company':'pwskills','course':['web dev','data science','dsa']}"
   ]
  },
  {
   "cell_type": "code",
   "execution_count": 24,
   "id": "d6c8e1e4",
   "metadata": {},
   "outputs": [
    {
     "data": {
      "text/plain": [
       "{'company': 'pwskills', 'course': ['web dev', 'data science', 'dsa']}"
      ]
     },
     "execution_count": 24,
     "metadata": {},
     "output_type": "execute_result"
    }
   ],
   "source": [
    "d5"
   ]
  },
  {
   "cell_type": "code",
   "execution_count": 25,
   "id": "45110ede",
   "metadata": {},
   "outputs": [
    {
     "data": {
      "text/plain": [
       "['web dev', 'data science', 'dsa']"
      ]
     },
     "execution_count": 25,
     "metadata": {},
     "output_type": "execute_result"
    }
   ],
   "source": [
    "d5['course']"
   ]
  },
  {
   "cell_type": "code",
   "execution_count": 26,
   "id": "2403a2ee",
   "metadata": {},
   "outputs": [
    {
     "data": {
      "text/plain": [
       "'data science'"
      ]
     },
     "execution_count": 26,
     "metadata": {},
     "output_type": "execute_result"
    }
   ],
   "source": [
    "d5['course'][1]"
   ]
  },
  {
   "cell_type": "code",
   "execution_count": 27,
   "id": "6aa96d0a",
   "metadata": {},
   "outputs": [],
   "source": [
    "d6 = {'number':[2,3,4,23,45,65],'assignment':(1,2,3,4,5),'launch_date':{24,34,54}}"
   ]
  },
  {
   "cell_type": "code",
   "execution_count": 28,
   "id": "38094fed",
   "metadata": {},
   "outputs": [
    {
     "data": {
      "text/plain": [
       "{'number': [2, 3, 4, 23, 45, 65],\n",
       " 'assignment': (1, 2, 3, 4, 5),\n",
       " 'launch_date': {24, 34, 54}}"
      ]
     },
     "execution_count": 28,
     "metadata": {},
     "output_type": "execute_result"
    }
   ],
   "source": [
    "d6"
   ]
  },
  {
   "cell_type": "code",
   "execution_count": 29,
   "id": "e023bc69",
   "metadata": {},
   "outputs": [],
   "source": [
    "d6 = {'number':[2,3,4,23,45,65],'assignment':(1,2,3,4,5),'launch_date':{24,34,54},'class_time' :{'web dev':3,'data science':6,'dsa':4}}"
   ]
  },
  {
   "cell_type": "code",
   "execution_count": 30,
   "id": "14609fb2",
   "metadata": {},
   "outputs": [
    {
     "data": {
      "text/plain": [
       "{'number': [2, 3, 4, 23, 45, 65],\n",
       " 'assignment': (1, 2, 3, 4, 5),\n",
       " 'launch_date': {24, 34, 54},\n",
       " 'class_time': {'web dev': 3, 'data science': 6, 'dsa': 4}}"
      ]
     },
     "execution_count": 30,
     "metadata": {},
     "output_type": "execute_result"
    }
   ],
   "source": [
    "d6"
   ]
  },
  {
   "cell_type": "code",
   "execution_count": 31,
   "id": "855f6f61",
   "metadata": {},
   "outputs": [
    {
     "data": {
      "text/plain": [
       "list"
      ]
     },
     "execution_count": 31,
     "metadata": {},
     "output_type": "execute_result"
    }
   ],
   "source": [
    "type(d6['number'])"
   ]
  },
  {
   "cell_type": "code",
   "execution_count": 32,
   "id": "917ba491",
   "metadata": {},
   "outputs": [
    {
     "data": {
      "text/plain": [
       "tuple"
      ]
     },
     "execution_count": 32,
     "metadata": {},
     "output_type": "execute_result"
    }
   ],
   "source": [
    "type(d6['assignment'])"
   ]
  },
  {
   "cell_type": "code",
   "execution_count": 33,
   "id": "87cd65bd",
   "metadata": {},
   "outputs": [
    {
     "data": {
      "text/plain": [
       "set"
      ]
     },
     "execution_count": 33,
     "metadata": {},
     "output_type": "execute_result"
    }
   ],
   "source": [
    "type(d6['launch_date'])"
   ]
  },
  {
   "cell_type": "code",
   "execution_count": 34,
   "id": "acb1de3c",
   "metadata": {},
   "outputs": [
    {
     "data": {
      "text/plain": [
       "dict"
      ]
     },
     "execution_count": 34,
     "metadata": {},
     "output_type": "execute_result"
    }
   ],
   "source": [
    "type(d6['class_time'])"
   ]
  },
  {
   "cell_type": "code",
   "execution_count": 35,
   "id": "12718ec6",
   "metadata": {},
   "outputs": [
    {
     "data": {
      "text/plain": [
       "4"
      ]
     },
     "execution_count": 35,
     "metadata": {},
     "output_type": "execute_result"
    }
   ],
   "source": [
    "d6['class_time']['dsa']"
   ]
  },
  {
   "cell_type": "code",
   "execution_count": 36,
   "id": "37e38ab1",
   "metadata": {},
   "outputs": [],
   "source": [
    "d6['work']= 'analytics'"
   ]
  },
  {
   "cell_type": "code",
   "execution_count": 37,
   "id": "0d20b770",
   "metadata": {},
   "outputs": [
    {
     "data": {
      "text/plain": [
       "{'number': [2, 3, 4, 23, 45, 65],\n",
       " 'assignment': (1, 2, 3, 4, 5),\n",
       " 'launch_date': {24, 34, 54},\n",
       " 'class_time': {'web dev': 3, 'data science': 6, 'dsa': 4},\n",
       " 'work': 'analytics'}"
      ]
     },
     "execution_count": 37,
     "metadata": {},
     "output_type": "execute_result"
    }
   ],
   "source": [
    "d6"
   ]
  },
  {
   "cell_type": "code",
   "execution_count": 38,
   "id": "b933ec96",
   "metadata": {},
   "outputs": [
    {
     "data": {
      "text/plain": [
       "'analytics'"
      ]
     },
     "execution_count": 38,
     "metadata": {},
     "output_type": "execute_result"
    }
   ],
   "source": [
    "d6.pop('work')"
   ]
  },
  {
   "cell_type": "code",
   "execution_count": 39,
   "id": "a358938a",
   "metadata": {},
   "outputs": [
    {
     "data": {
      "text/plain": [
       "{'number': [2, 3, 4, 23, 45, 65],\n",
       " 'assignment': (1, 2, 3, 4, 5),\n",
       " 'launch_date': {24, 34, 54},\n",
       " 'class_time': {'web dev': 3, 'data science': 6, 'dsa': 4}}"
      ]
     },
     "execution_count": 39,
     "metadata": {},
     "output_type": "execute_result"
    }
   ],
   "source": [
    "d6"
   ]
  },
  {
   "cell_type": "code",
   "execution_count": 40,
   "id": "1dff15e3",
   "metadata": {},
   "outputs": [
    {
     "data": {
      "text/plain": [
       "('class_time', {'web dev': 3, 'data science': 6, 'dsa': 4})"
      ]
     },
     "execution_count": 40,
     "metadata": {},
     "output_type": "execute_result"
    }
   ],
   "source": [
    "d6.popitem()"
   ]
  },
  {
   "cell_type": "code",
   "execution_count": 41,
   "id": "0e987561",
   "metadata": {},
   "outputs": [
    {
     "data": {
      "text/plain": [
       "{'number': [2, 3, 4, 23, 45, 65],\n",
       " 'assignment': (1, 2, 3, 4, 5),\n",
       " 'launch_date': {24, 34, 54}}"
      ]
     },
     "execution_count": 41,
     "metadata": {},
     "output_type": "execute_result"
    }
   ],
   "source": [
    "d6"
   ]
  },
  {
   "cell_type": "code",
   "execution_count": 42,
   "id": "5bfa261b",
   "metadata": {},
   "outputs": [],
   "source": [
    "del d6['number']"
   ]
  },
  {
   "cell_type": "code",
   "execution_count": 43,
   "id": "eaaa3be5",
   "metadata": {},
   "outputs": [
    {
     "data": {
      "text/plain": [
       "{'assignment': (1, 2, 3, 4, 5), 'launch_date': {24, 34, 54}}"
      ]
     },
     "execution_count": 43,
     "metadata": {},
     "output_type": "execute_result"
    }
   ],
   "source": [
    "d6"
   ]
  },
  {
   "cell_type": "code",
   "execution_count": 44,
   "id": "2ce0b428",
   "metadata": {},
   "outputs": [],
   "source": [
    "d7 = {'number':[2,3,4,23,45,65],'assignment':(1,2,3,4,5),'launch_date':{24,34,54},'class_time' :{'web dev':3,'data science':6,'dsa':4}}"
   ]
  },
  {
   "cell_type": "code",
   "execution_count": 45,
   "id": "2fffd5e6",
   "metadata": {},
   "outputs": [
    {
     "data": {
      "text/plain": [
       "{'number': [2, 3, 4, 23, 45, 65],\n",
       " 'assignment': (1, 2, 3, 4, 5),\n",
       " 'launch_date': {24, 34, 54},\n",
       " 'class_time': {'web dev': 3, 'data science': 6, 'dsa': 4}}"
      ]
     },
     "execution_count": 45,
     "metadata": {},
     "output_type": "execute_result"
    }
   ],
   "source": [
    "d7"
   ]
  },
  {
   "cell_type": "markdown",
   "id": "1f436ea8",
   "metadata": {},
   "source": [
    "## Conditional Statement"
   ]
  },
  {
   "cell_type": "code",
   "execution_count": 51,
   "id": "bbff095d",
   "metadata": {},
   "outputs": [
    {
     "name": "stdout",
     "output_type": "stream",
     "text": [
      "Enter the marks65\n",
      "you will be a part of A1 batch\n"
     ]
    }
   ],
   "source": [
    "mark = int(input(\"Enter the marks\"))\n",
    "if mark >= 80:\n",
    "    print(\"you will be a part of A0 batch\")\n",
    "elif mark >= 60 and mark <80:\n",
    "    print(\"you will be a part of A1 batch\")\n",
    "elif mark >= 40 and mark <60:\n",
    "    print('you will be a part of A2 batch')\n",
    "else:\n",
    "    print('you will be a part of A3 batch')"
   ]
  },
  {
   "cell_type": "code",
   "execution_count": 67,
   "id": "81c15eb5",
   "metadata": {},
   "outputs": [
    {
     "name": "stdout",
     "output_type": "stream",
     "text": [
      "Enter the price: 122\n",
      "I will purchase\n"
     ]
    }
   ],
   "source": [
    "price = int(input('Enter the price: '))\n",
    "if price >1000:\n",
    "    print('I will not purchase')\n",
    "else:\n",
    "    print('I will purchase')"
   ]
  },
  {
   "cell_type": "code",
   "execution_count": 68,
   "id": "ec50071d",
   "metadata": {},
   "outputs": [
    {
     "name": "stdout",
     "output_type": "stream",
     "text": [
      "Enter the price: 3652\n",
      "I will not purchase\n"
     ]
    }
   ],
   "source": [
    "price = int(input('Enter the price: '))\n",
    "if price >1000:\n",
    "    print('I will not purchase')"
   ]
  },
  {
   "cell_type": "markdown",
   "id": "891f77ab",
   "metadata": {},
   "source": [
    "## Loop"
   ]
  },
  {
   "cell_type": "code",
   "execution_count": 69,
   "id": "679b0cdc",
   "metadata": {},
   "outputs": [],
   "source": [
    "l = [1,2,3,4,5,6,7,8,9]"
   ]
  },
  {
   "cell_type": "code",
   "execution_count": 75,
   "id": "c4c1c835",
   "metadata": {},
   "outputs": [
    {
     "name": "stdout",
     "output_type": "stream",
     "text": [
      "1\n",
      "2\n",
      "3\n",
      "4\n",
      "5\n",
      "6\n",
      "7\n",
      "8\n",
      "9\n"
     ]
    },
    {
     "data": {
      "text/plain": [
       "[2, 3, 4, 5, 6, 7, 8, 9, 10]"
      ]
     },
     "execution_count": 75,
     "metadata": {},
     "output_type": "execute_result"
    }
   ],
   "source": [
    "l1 = []\n",
    "for i in l:\n",
    "    print(i)\n",
    "    i = i+1\n",
    "    l1.append(i)\n",
    "l1"
   ]
  },
  {
   "cell_type": "code",
   "execution_count": 77,
   "id": "a97c4122",
   "metadata": {},
   "outputs": [
    {
     "data": {
      "text/plain": [
       "[2, 3, 4, 5, 6, 7, 8, 9, 10]"
      ]
     },
     "execution_count": 77,
     "metadata": {},
     "output_type": "execute_result"
    }
   ],
   "source": [
    "l1 = [i+1 for i in l]\n",
    "l1"
   ]
  },
  {
   "cell_type": "code",
   "execution_count": 81,
   "id": "0d6a105a",
   "metadata": {},
   "outputs": [
    {
     "data": {
      "text/plain": [
       "[2, 4, 6, 8, 10, 12, 14, 16, 18, 20]"
      ]
     },
     "execution_count": 81,
     "metadata": {},
     "output_type": "execute_result"
    }
   ],
   "source": [
    "l2 = [i*2 for i in range (1,11)]\n",
    "l2"
   ]
  },
  {
   "cell_type": "code",
   "execution_count": 82,
   "id": "d1ef3cd8",
   "metadata": {},
   "outputs": [
    {
     "name": "stdout",
     "output_type": "stream",
     "text": [
      "1 * 2 = 2\n",
      "2 * 2 = 4\n",
      "3 * 2 = 6\n",
      "4 * 2 = 8\n",
      "5 * 2 = 10\n",
      "6 * 2 = 12\n",
      "7 * 2 = 14\n",
      "8 * 2 = 16\n",
      "9 * 2 = 18\n",
      "10 * 2 = 20\n"
     ]
    }
   ],
   "source": [
    "for i in range (1,11,1):\n",
    "    print(i,'*','2','=',i*2)"
   ]
  },
  {
   "cell_type": "code",
   "execution_count": 84,
   "id": "99d1212a",
   "metadata": {},
   "outputs": [],
   "source": [
    "l = ['sudh','kumar','sonu','course']"
   ]
  },
  {
   "cell_type": "code",
   "execution_count": 85,
   "id": "9d286c36",
   "metadata": {},
   "outputs": [
    {
     "data": {
      "text/plain": [
       "['SUDH', 'KUMAR', 'SONU', 'COURSE']"
      ]
     },
     "execution_count": 85,
     "metadata": {},
     "output_type": "execute_result"
    }
   ],
   "source": [
    "l2 = []\n",
    "for i in l:\n",
    "    l2.append(i.upper())\n",
    "l2    "
   ]
  },
  {
   "cell_type": "code",
   "execution_count": 100,
   "id": "942b1e9d",
   "metadata": {},
   "outputs": [],
   "source": [
    "l = [1,2,3,4,5,6,7,'sudh','abc',54.65,54.5,'sonu']"
   ]
  },
  {
   "cell_type": "code",
   "execution_count": 105,
   "id": "26d120d4",
   "metadata": {},
   "outputs": [
    {
     "data": {
      "text/plain": [
       "[1, 2, 3, 4, 5, 6, 7, 54.65, 54.5]"
      ]
     },
     "execution_count": 105,
     "metadata": {},
     "output_type": "execute_result"
    }
   ],
   "source": [
    "l1 = []\n",
    "l2 = []\n",
    "for i in l:\n",
    "    if type(i) == int or type(i) == float:\n",
    "        l1.append(i)\n",
    "    else:\n",
    "        l2.append(i)\n",
    "l1"
   ]
  },
  {
   "cell_type": "code",
   "execution_count": 104,
   "id": "38e509d8",
   "metadata": {},
   "outputs": [
    {
     "data": {
      "text/plain": [
       "['sudh', 'abc', 'sonu']"
      ]
     },
     "execution_count": 104,
     "metadata": {},
     "output_type": "execute_result"
    }
   ],
   "source": [
    "l2"
   ]
  },
  {
   "cell_type": "code",
   "execution_count": null,
   "id": "eb908852",
   "metadata": {},
   "outputs": [],
   "source": []
  }
 ],
 "metadata": {
  "kernelspec": {
   "display_name": "Python 3 (ipykernel)",
   "language": "python",
   "name": "python3"
  },
  "language_info": {
   "codemirror_mode": {
    "name": "ipython",
    "version": 3
   },
   "file_extension": ".py",
   "mimetype": "text/x-python",
   "name": "python",
   "nbconvert_exporter": "python",
   "pygments_lexer": "ipython3",
   "version": "3.9.7"
  }
 },
 "nbformat": 4,
 "nbformat_minor": 5
}
