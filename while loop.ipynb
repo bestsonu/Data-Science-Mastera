{
 "cells": [
  {
   "cell_type": "code",
   "execution_count": 1,
   "id": "648ee979",
   "metadata": {},
   "outputs": [
    {
     "name": "stdout",
     "output_type": "stream",
     "text": [
      "1\n",
      "2\n",
      "3\n",
      "4\n",
      "5\n",
      "6\n",
      "7\n",
      "8\n",
      "9\n",
      "10\n"
     ]
    }
   ],
   "source": [
    "a = 1\n",
    "while(a<=10):\n",
    "    print(a)\n",
    "    a = a+1"
   ]
  },
  {
   "cell_type": "code",
   "execution_count": 2,
   "id": "159a5ebb",
   "metadata": {},
   "outputs": [
    {
     "name": "stdout",
     "output_type": "stream",
     "text": [
      "Enter the number : 5\n",
      "15\n"
     ]
    }
   ],
   "source": [
    "# sum of the number till some point\n",
    "n = int(input(\"Enter the number : \"))\n",
    "sum = 0\n",
    "i = 0\n",
    "while(i<=n):\n",
    "    sum = sum + i\n",
    "    i = i+1\n",
    "print(sum)"
   ]
  },
  {
   "cell_type": "code",
   "execution_count": 3,
   "id": "4ea69c8a",
   "metadata": {},
   "outputs": [
    {
     "name": "stdout",
     "output_type": "stream",
     "text": [
      "Enter your number5\n",
      "120\n"
     ]
    }
   ],
   "source": [
    "f=1\n",
    "n = int(input(\"Enter your number\"))\n",
    "while(n>0):\n",
    "    f = f*n\n",
    "    n = n-1\n",
    "print(f)"
   ]
  },
  {
   "cell_type": "code",
   "execution_count": 5,
   "id": "ee338a74",
   "metadata": {},
   "outputs": [
    {
     "name": "stdout",
     "output_type": "stream",
     "text": [
      "Enter the number5\n",
      "0\n",
      "1\n",
      "1\n",
      "2\n",
      "3\n"
     ]
    }
   ],
   "source": [
    "number = int(input(\"Enter the number\"))\n",
    "a,b = 0,1\n",
    "counter = 0;\n",
    "while(counter < number):\n",
    "    print(a)\n",
    "    c = a+b\n",
    "    a = b\n",
    "    b = c\n",
    "    counter = counter + 1"
   ]
  },
  {
   "cell_type": "code",
   "execution_count": 6,
   "id": "6e0fdc28",
   "metadata": {},
   "outputs": [
    {
     "name": "stdout",
     "output_type": "stream",
     "text": [
      "0\n",
      "1\n",
      "1\n",
      "2\n",
      "3\n",
      "5\n",
      "8\n",
      "13\n",
      "21\n"
     ]
    }
   ],
   "source": [
    "a,b = 0,1\n",
    "for i in range (1,10):\n",
    "    print(a)\n",
    "    c = a+b\n",
    "    a= b\n",
    "    b =c"
   ]
  },
  {
   "cell_type": "code",
   "execution_count": 7,
   "id": "c3309b03",
   "metadata": {},
   "outputs": [
    {
     "name": "stdout",
     "output_type": "stream",
     "text": [
      "Enter string for reverse : sonu\n"
     ]
    }
   ],
   "source": [
    "word = input(\"Enter string for reverse : \")"
   ]
  },
  {
   "cell_type": "code",
   "execution_count": 8,
   "id": "28dd5c79",
   "metadata": {},
   "outputs": [
    {
     "data": {
      "text/plain": [
       "'unos'"
      ]
     },
     "execution_count": 8,
     "metadata": {},
     "output_type": "execute_result"
    }
   ],
   "source": [
    "reverse = ''\n",
    "length = len(word)\n",
    "while(length>0):\n",
    "    reverse = reverse + word[length-1]\n",
    "    length = length - 1\n",
    "reverse"
   ]
  },
  {
   "cell_type": "code",
   "execution_count": 9,
   "id": "dcc74ba4",
   "metadata": {},
   "outputs": [
    {
     "name": "stdout",
     "output_type": "stream",
     "text": [
      "1\n",
      "2\n",
      "3\n",
      "4\n"
     ]
    }
   ],
   "source": [
    "n = 5\n",
    "i = 1\n",
    "while(i<n):\n",
    "    print(i)\n",
    "    i = i+1"
   ]
  },
  {
   "cell_type": "code",
   "execution_count": 10,
   "id": "dd697e82",
   "metadata": {},
   "outputs": [
    {
     "name": "stdout",
     "output_type": "stream",
     "text": [
      "1\n",
      "2\n",
      "3\n",
      "4\n",
      "this will be executed once your while will complete it successfully\n"
     ]
    }
   ],
   "source": [
    "n = 5\n",
    "i = 1\n",
    "while(i<n):\n",
    "    print(i)\n",
    "    i = i+1\n",
    "else:\n",
    "    print('this will be executed once your while will complete it successfully')"
   ]
  },
  {
   "cell_type": "code",
   "execution_count": 12,
   "id": "6fecebb1",
   "metadata": {},
   "outputs": [
    {
     "name": "stdout",
     "output_type": "stream",
     "text": [
      "1\n",
      "2\n",
      "3\n"
     ]
    }
   ],
   "source": [
    "n = 5\n",
    "i = 1\n",
    "while(i<n):\n",
    "    print(i)\n",
    "    if i == 3:\n",
    "        break\n",
    "    i = i+1\n",
    "else:\n",
    "    print('this will be executed once your while will complete it successfully')"
   ]
  },
  {
   "cell_type": "code",
   "execution_count": null,
   "id": "6f8016a2",
   "metadata": {},
   "outputs": [],
   "source": []
  }
 ],
 "metadata": {
  "kernelspec": {
   "display_name": "Python 3 (ipykernel)",
   "language": "python",
   "name": "python3"
  },
  "language_info": {
   "codemirror_mode": {
    "name": "ipython",
    "version": 3
   },
   "file_extension": ".py",
   "mimetype": "text/x-python",
   "name": "python",
   "nbconvert_exporter": "python",
   "pygments_lexer": "ipython3",
   "version": "3.9.7"
  }
 },
 "nbformat": 4,
 "nbformat_minor": 5
}
