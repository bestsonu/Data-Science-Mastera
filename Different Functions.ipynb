{
 "cells": [
  {
   "cell_type": "markdown",
   "id": "8c543097",
   "metadata": {},
   "source": [
    "## Generator Function"
   ]
  },
  {
   "cell_type": "code",
   "execution_count": 1,
   "id": "c222d96b",
   "metadata": {},
   "outputs": [],
   "source": [
    "def test_fib(n):\n",
    "    a,b=0,1\n",
    "    for i in range(n):\n",
    "        yield a\n",
    "        a,b = b,a+b"
   ]
  },
  {
   "cell_type": "code",
   "execution_count": 2,
   "id": "b959b888",
   "metadata": {},
   "outputs": [
    {
     "data": {
      "text/plain": [
       "<generator object test_fib at 0x000002A99BBA4D60>"
      ]
     },
     "execution_count": 2,
     "metadata": {},
     "output_type": "execute_result"
    }
   ],
   "source": [
    "test_fib(5)"
   ]
  },
  {
   "cell_type": "code",
   "execution_count": 3,
   "id": "96736a08",
   "metadata": {},
   "outputs": [
    {
     "name": "stdout",
     "output_type": "stream",
     "text": [
      "0\n",
      "1\n",
      "1\n",
      "2\n",
      "3\n"
     ]
    }
   ],
   "source": [
    "for i in test_fib(5):\n",
    "    print(i)"
   ]
  },
  {
   "cell_type": "code",
   "execution_count": 4,
   "id": "363dc774",
   "metadata": {},
   "outputs": [],
   "source": [
    "def test_fib1():\n",
    "    a,b = 0,1\n",
    "    while True:\n",
    "        yield a\n",
    "        a,b = b,a+b"
   ]
  },
  {
   "cell_type": "code",
   "execution_count": 5,
   "id": "0cd7fe81",
   "metadata": {},
   "outputs": [],
   "source": [
    "fib = test_fib1()"
   ]
  },
  {
   "cell_type": "code",
   "execution_count": 6,
   "id": "279a102a",
   "metadata": {},
   "outputs": [
    {
     "name": "stdout",
     "output_type": "stream",
     "text": [
      "0\n",
      "1\n",
      "1\n",
      "2\n",
      "3\n",
      "5\n",
      "8\n",
      "13\n",
      "21\n",
      "34\n"
     ]
    }
   ],
   "source": [
    "for i in range(10):\n",
    "    print(next(fib))"
   ]
  },
  {
   "cell_type": "code",
   "execution_count": 7,
   "id": "4686b3e3",
   "metadata": {},
   "outputs": [],
   "source": [
    "def count_test(n):\n",
    "    count = 1\n",
    "    while count<n:\n",
    "        yield count\n",
    "        count = count +1"
   ]
  },
  {
   "cell_type": "code",
   "execution_count": 8,
   "id": "8d48a71d",
   "metadata": {},
   "outputs": [],
   "source": [
    "c = count_test(5)"
   ]
  },
  {
   "cell_type": "code",
   "execution_count": 9,
   "id": "d85b13e5",
   "metadata": {},
   "outputs": [
    {
     "name": "stdout",
     "output_type": "stream",
     "text": [
      "1\n",
      "2\n",
      "3\n",
      "4\n"
     ]
    }
   ],
   "source": [
    "for i in c:\n",
    "    print(i)"
   ]
  },
  {
   "cell_type": "markdown",
   "id": "1903d840",
   "metadata": {},
   "source": [
    "## Lambda Function"
   ]
  },
  {
   "cell_type": "code",
   "execution_count": 10,
   "id": "bf068eea",
   "metadata": {},
   "outputs": [],
   "source": [
    "n = 3\n",
    "p = 2"
   ]
  },
  {
   "cell_type": "code",
   "execution_count": 11,
   "id": "6799145f",
   "metadata": {},
   "outputs": [],
   "source": [
    "def test(n,p):\n",
    "    return n**p"
   ]
  },
  {
   "cell_type": "code",
   "execution_count": 12,
   "id": "7faef94d",
   "metadata": {},
   "outputs": [
    {
     "data": {
      "text/plain": [
       "9"
      ]
     },
     "execution_count": 12,
     "metadata": {},
     "output_type": "execute_result"
    }
   ],
   "source": [
    "test(3,2)"
   ]
  },
  {
   "cell_type": "code",
   "execution_count": 13,
   "id": "61031470",
   "metadata": {},
   "outputs": [
    {
     "data": {
      "text/plain": [
       "<function __main__.<lambda>(n, p)>"
      ]
     },
     "execution_count": 13,
     "metadata": {},
     "output_type": "execute_result"
    }
   ],
   "source": [
    "# optional\n",
    "lambda n,p:n**p"
   ]
  },
  {
   "cell_type": "code",
   "execution_count": 14,
   "id": "c474d1c9",
   "metadata": {},
   "outputs": [],
   "source": [
    "a = lambda n,p:n**p"
   ]
  },
  {
   "cell_type": "code",
   "execution_count": 15,
   "id": "629c443c",
   "metadata": {},
   "outputs": [
    {
     "data": {
      "text/plain": [
       "9"
      ]
     },
     "execution_count": 15,
     "metadata": {},
     "output_type": "execute_result"
    }
   ],
   "source": [
    "a(3,2)"
   ]
  },
  {
   "cell_type": "code",
   "execution_count": 16,
   "id": "ae81fcae",
   "metadata": {},
   "outputs": [],
   "source": [
    "add = lambda m,n:m+n"
   ]
  },
  {
   "cell_type": "code",
   "execution_count": 17,
   "id": "d71fb15e",
   "metadata": {},
   "outputs": [
    {
     "data": {
      "text/plain": [
       "5"
      ]
     },
     "execution_count": 17,
     "metadata": {},
     "output_type": "execute_result"
    }
   ],
   "source": [
    "add(3,2)"
   ]
  },
  {
   "cell_type": "code",
   "execution_count": 18,
   "id": "a98249c6",
   "metadata": {},
   "outputs": [],
   "source": [
    "c_to_f = lambda c:(9/5)*c+32"
   ]
  },
  {
   "cell_type": "code",
   "execution_count": 19,
   "id": "6b3f09ad",
   "metadata": {},
   "outputs": [
    {
     "data": {
      "text/plain": [
       "89.6"
      ]
     },
     "execution_count": 19,
     "metadata": {},
     "output_type": "execute_result"
    }
   ],
   "source": [
    "c_to_f(32)"
   ]
  },
  {
   "cell_type": "code",
   "execution_count": 20,
   "id": "559a148e",
   "metadata": {},
   "outputs": [],
   "source": [
    "finding_max=lambda x,y: x if x>y else y"
   ]
  },
  {
   "cell_type": "code",
   "execution_count": 21,
   "id": "69ae7858",
   "metadata": {},
   "outputs": [
    {
     "data": {
      "text/plain": [
       "76"
      ]
     },
     "execution_count": 21,
     "metadata": {},
     "output_type": "execute_result"
    }
   ],
   "source": [
    "finding_max(45,76)"
   ]
  },
  {
   "cell_type": "markdown",
   "id": "61b57013",
   "metadata": {},
   "source": [
    "## Map,Reduce & Filter Functions"
   ]
  },
  {
   "cell_type": "code",
   "execution_count": 22,
   "id": "b4537d50",
   "metadata": {},
   "outputs": [],
   "source": [
    "l = [1,2,3,4,5]"
   ]
  },
  {
   "cell_type": "code",
   "execution_count": 23,
   "id": "437caca6",
   "metadata": {},
   "outputs": [],
   "source": [
    "def test(l):\n",
    "    l1 = []\n",
    "    for i in l:\n",
    "        l1.append(i**2)\n",
    "    return l1"
   ]
  },
  {
   "cell_type": "code",
   "execution_count": 24,
   "id": "8fca8f3c",
   "metadata": {},
   "outputs": [
    {
     "data": {
      "text/plain": [
       "[1, 4, 9, 16, 25]"
      ]
     },
     "execution_count": 24,
     "metadata": {},
     "output_type": "execute_result"
    }
   ],
   "source": [
    "test(l)"
   ]
  },
  {
   "cell_type": "code",
   "execution_count": 35,
   "id": "86d3f730",
   "metadata": {},
   "outputs": [],
   "source": [
    "def sq(x):\n",
    "    return x**2"
   ]
  },
  {
   "cell_type": "code",
   "execution_count": 36,
   "id": "c3ad0dd5",
   "metadata": {},
   "outputs": [
    {
     "data": {
      "text/plain": [
       "<map at 0x2a99bcadd30>"
      ]
     },
     "execution_count": 36,
     "metadata": {},
     "output_type": "execute_result"
    }
   ],
   "source": [
    "map(sq ,l)"
   ]
  },
  {
   "cell_type": "code",
   "execution_count": 37,
   "id": "7462c877",
   "metadata": {},
   "outputs": [
    {
     "data": {
      "text/plain": [
       "[1, 4, 9, 16, 25]"
      ]
     },
     "execution_count": 37,
     "metadata": {},
     "output_type": "execute_result"
    }
   ],
   "source": [
    "list(map(sq,l))"
   ]
  },
  {
   "cell_type": "code",
   "execution_count": 38,
   "id": "84af1999",
   "metadata": {},
   "outputs": [
    {
     "data": {
      "text/plain": [
       "[1, 4, 9, 16, 25]"
      ]
     },
     "execution_count": 38,
     "metadata": {},
     "output_type": "execute_result"
    }
   ],
   "source": [
    "list(map(lambda x:x**2,l))"
   ]
  },
  {
   "cell_type": "code",
   "execution_count": 39,
   "id": "97864233",
   "metadata": {},
   "outputs": [
    {
     "data": {
      "text/plain": [
       "[7, 9, 11, 13, 15]"
      ]
     },
     "execution_count": 39,
     "metadata": {},
     "output_type": "execute_result"
    }
   ],
   "source": [
    "l1 = [1,2,3,4,5]\n",
    "l2 = [6,7,8,9,10]\n",
    "list(map(lambda x,y:x+y,l1,l2))"
   ]
  },
  {
   "cell_type": "code",
   "execution_count": 40,
   "id": "907dd15d",
   "metadata": {},
   "outputs": [],
   "source": [
    "def add(x,y):\n",
    "    return x+y"
   ]
  },
  {
   "cell_type": "code",
   "execution_count": 41,
   "id": "746dfeb3",
   "metadata": {},
   "outputs": [
    {
     "data": {
      "text/plain": [
       "[7, 9, 11, 13, 15]"
      ]
     },
     "execution_count": 41,
     "metadata": {},
     "output_type": "execute_result"
    }
   ],
   "source": [
    "list(map(add,l1,l2))"
   ]
  },
  {
   "cell_type": "code",
   "execution_count": 47,
   "id": "c64b1e34",
   "metadata": {},
   "outputs": [
    {
     "data": {
      "text/plain": [
       "['P', 'W', 'S', 'K', 'I', 'L', 'L', 'S']"
      ]
     },
     "execution_count": 47,
     "metadata": {},
     "output_type": "execute_result"
    }
   ],
   "source": [
    "s = 'pwskills'\n",
    "list(map(lambda s: s.upper(),s))"
   ]
  },
  {
   "cell_type": "code",
   "execution_count": 49,
   "id": "e92c6e6f",
   "metadata": {},
   "outputs": [],
   "source": [
    "from functools import reduce"
   ]
  },
  {
   "cell_type": "code",
   "execution_count": 50,
   "id": "4aafb134",
   "metadata": {},
   "outputs": [
    {
     "data": {
      "text/plain": [
       "15"
      ]
     },
     "execution_count": 50,
     "metadata": {},
     "output_type": "execute_result"
    }
   ],
   "source": [
    "l = [1,2,3,4,5]\n",
    "reduce(lambda x,y: x+y,l)"
   ]
  },
  {
   "cell_type": "code",
   "execution_count": 51,
   "id": "c2aa8404",
   "metadata": {},
   "outputs": [
    {
     "ename": "TypeError",
     "evalue": "<lambda>() missing 1 required positional argument: 'z'",
     "output_type": "error",
     "traceback": [
      "\u001b[1;31m---------------------------------------------------------------------------\u001b[0m",
      "\u001b[1;31mTypeError\u001b[0m                                 Traceback (most recent call last)",
      "\u001b[1;32m~\\AppData\\Local\\Temp/ipykernel_13136/1956194791.py\u001b[0m in \u001b[0;36m<module>\u001b[1;34m\u001b[0m\n\u001b[1;32m----> 1\u001b[1;33m \u001b[0mreduce\u001b[0m\u001b[1;33m(\u001b[0m\u001b[1;32mlambda\u001b[0m \u001b[0mx\u001b[0m\u001b[1;33m,\u001b[0m\u001b[0my\u001b[0m\u001b[1;33m,\u001b[0m\u001b[0mz\u001b[0m\u001b[1;33m:\u001b[0m\u001b[0mx\u001b[0m\u001b[1;33m+\u001b[0m\u001b[0my\u001b[0m\u001b[1;33m+\u001b[0m\u001b[0mz\u001b[0m\u001b[1;33m,\u001b[0m\u001b[0ml\u001b[0m\u001b[1;33m)\u001b[0m\u001b[1;33m\u001b[0m\u001b[1;33m\u001b[0m\u001b[0m\n\u001b[0m",
      "\u001b[1;31mTypeError\u001b[0m: <lambda>() missing 1 required positional argument: 'z'"
     ]
    }
   ],
   "source": [
    "reduce(lambda x,y,z:x+y+z,l)"
   ]
  },
  {
   "cell_type": "code",
   "execution_count": 52,
   "id": "f9728329",
   "metadata": {},
   "outputs": [
    {
     "ename": "TypeError",
     "evalue": "reduce() of empty sequence with no initial value",
     "output_type": "error",
     "traceback": [
      "\u001b[1;31m---------------------------------------------------------------------------\u001b[0m",
      "\u001b[1;31mTypeError\u001b[0m                                 Traceback (most recent call last)",
      "\u001b[1;32m~\\AppData\\Local\\Temp/ipykernel_13136/3726521162.py\u001b[0m in \u001b[0;36m<module>\u001b[1;34m\u001b[0m\n\u001b[1;32m----> 1\u001b[1;33m \u001b[0mreduce\u001b[0m\u001b[1;33m(\u001b[0m\u001b[1;32mlambda\u001b[0m \u001b[0mx\u001b[0m\u001b[1;33m,\u001b[0m\u001b[0my\u001b[0m\u001b[1;33m:\u001b[0m \u001b[0mx\u001b[0m\u001b[1;33m+\u001b[0m\u001b[0my\u001b[0m\u001b[1;33m,\u001b[0m\u001b[1;33m[\u001b[0m\u001b[1;33m]\u001b[0m\u001b[1;33m)\u001b[0m\u001b[1;33m\u001b[0m\u001b[1;33m\u001b[0m\u001b[0m\n\u001b[0m",
      "\u001b[1;31mTypeError\u001b[0m: reduce() of empty sequence with no initial value"
     ]
    }
   ],
   "source": [
    "reduce(lambda x,y: x+y,[])"
   ]
  },
  {
   "cell_type": "code",
   "execution_count": 54,
   "id": "a61fe317",
   "metadata": {},
   "outputs": [
    {
     "data": {
      "text/plain": [
       "4"
      ]
     },
     "execution_count": 54,
     "metadata": {},
     "output_type": "execute_result"
    }
   ],
   "source": [
    "reduce(lambda x,y: x+y,[4])"
   ]
  },
  {
   "cell_type": "code",
   "execution_count": 55,
   "id": "ca49ef39",
   "metadata": {},
   "outputs": [
    {
     "data": {
      "text/plain": [
       "120"
      ]
     },
     "execution_count": 55,
     "metadata": {},
     "output_type": "execute_result"
    }
   ],
   "source": [
    "reduce(lambda x,y:x*y,l)"
   ]
  },
  {
   "cell_type": "code",
   "execution_count": 56,
   "id": "39017603",
   "metadata": {},
   "outputs": [
    {
     "data": {
      "text/plain": [
       "5"
      ]
     },
     "execution_count": 56,
     "metadata": {},
     "output_type": "execute_result"
    }
   ],
   "source": [
    "reduce(lambda x,y: x if x>y else y,l)"
   ]
  },
  {
   "cell_type": "code",
   "execution_count": 57,
   "id": "d7b90c36",
   "metadata": {},
   "outputs": [
    {
     "data": {
      "text/plain": [
       "6"
      ]
     },
     "execution_count": 57,
     "metadata": {},
     "output_type": "execute_result"
    }
   ],
   "source": [
    "''''x = 4\n",
    "y = 6\n",
    "x if x>y else y '''"
   ]
  },
  {
   "cell_type": "code",
   "execution_count": 58,
   "id": "0424de4f",
   "metadata": {},
   "outputs": [
    {
     "data": {
      "text/plain": [
       "[1, 2, 3, 4, 5]"
      ]
     },
     "execution_count": 58,
     "metadata": {},
     "output_type": "execute_result"
    }
   ],
   "source": [
    "l"
   ]
  },
  {
   "cell_type": "code",
   "execution_count": 60,
   "id": "d96b9e77",
   "metadata": {},
   "outputs": [
    {
     "data": {
      "text/plain": [
       "[2, 4]"
      ]
     },
     "execution_count": 60,
     "metadata": {},
     "output_type": "execute_result"
    }
   ],
   "source": [
    "list(filter(lambda x: x%2==0 ,l))"
   ]
  },
  {
   "cell_type": "code",
   "execution_count": 61,
   "id": "2b764cfc",
   "metadata": {},
   "outputs": [
    {
     "data": {
      "text/plain": [
       "[1, 3, 5]"
      ]
     },
     "execution_count": 61,
     "metadata": {},
     "output_type": "execute_result"
    }
   ],
   "source": [
    "list(filter(lambda x: x%2!=0 ,l))"
   ]
  },
  {
   "cell_type": "code",
   "execution_count": 62,
   "id": "8f2b16a5",
   "metadata": {},
   "outputs": [],
   "source": [
    "l1 = [-2,-4,44,34,-65,7]"
   ]
  },
  {
   "cell_type": "code",
   "execution_count": 63,
   "id": "0b6c0ceb",
   "metadata": {},
   "outputs": [
    {
     "data": {
      "text/plain": [
       "[-2, -4, -65]"
      ]
     },
     "execution_count": 63,
     "metadata": {},
     "output_type": "execute_result"
    }
   ],
   "source": [
    "list(filter(lambda x: x<0 ,l1))"
   ]
  },
  {
   "cell_type": "code",
   "execution_count": 64,
   "id": "cdb73e70",
   "metadata": {},
   "outputs": [],
   "source": [
    "l2 = ['sonu','vais','sudh','pwskills']"
   ]
  },
  {
   "cell_type": "code",
   "execution_count": 65,
   "id": "4eae8b55",
   "metadata": {},
   "outputs": [
    {
     "data": {
      "text/plain": [
       "['sonu', 'vais', 'sudh']"
      ]
     },
     "execution_count": 65,
     "metadata": {},
     "output_type": "execute_result"
    }
   ],
   "source": [
    "list(filter(lambda x:len(x)<6,l2))"
   ]
  },
  {
   "cell_type": "code",
   "execution_count": null,
   "id": "a71c878b",
   "metadata": {},
   "outputs": [],
   "source": []
  }
 ],
 "metadata": {
  "kernelspec": {
   "display_name": "Python 3 (ipykernel)",
   "language": "python",
   "name": "python3"
  },
  "language_info": {
   "codemirror_mode": {
    "name": "ipython",
    "version": 3
   },
   "file_extension": ".py",
   "mimetype": "text/x-python",
   "name": "python",
   "nbconvert_exporter": "python",
   "pygments_lexer": "ipython3",
   "version": "3.9.7"
  }
 },
 "nbformat": 4,
 "nbformat_minor": 5
}
